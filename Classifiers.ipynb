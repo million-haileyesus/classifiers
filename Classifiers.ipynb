{
 "cells": [
  {
   "cell_type": "markdown",
   "id": "72a52a56-0665-4cca-9fae-8a8125a74e32",
   "metadata": {},
   "source": [
    "# Classifiers\n",
    "Exploring ML classifiers in this notebook."
   ]
  },
  {
   "cell_type": "code",
   "execution_count": 2,
   "id": "f788488d-07a1-47b6-a830-7bc019ede95f",
   "metadata": {},
   "outputs": [
    {
     "name": "stdout",
     "output_type": "stream",
     "text": [
      "8\n"
     ]
    }
   ],
   "source": [
    "def add(x, y):\n",
    "    return x + y\n",
    "\n",
    "print(add(5, 3))"
   ]
  },
  {
   "cell_type": "code",
   "execution_count": null,
   "id": "69af9f24-3bcd-484d-985a-9af014824795",
   "metadata": {},
   "outputs": [],
   "source": []
  }
 ],
 "metadata": {
  "kernelspec": {
   "display_name": "Python 3 (ipykernel)",
   "language": "python",
   "name": "python3"
  },
  "language_info": {
   "codemirror_mode": {
    "name": "ipython",
    "version": 3
   },
   "file_extension": ".py",
   "mimetype": "text/x-python",
   "name": "python",
   "nbconvert_exporter": "python",
   "pygments_lexer": "ipython3",
   "version": "3.10.9"
  }
 },
 "nbformat": 4,
 "nbformat_minor": 5
}
