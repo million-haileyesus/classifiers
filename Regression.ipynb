{
 "cells": [
  {
   "cell_type": "code",
   "execution_count": 1,
   "id": "ac571104",
   "metadata": {},
   "outputs": [],
   "source": [
    "import numpy as np\n",
    "import time"
   ]
  },
  {
   "cell_type": "code",
   "execution_count": 2,
   "id": "5d00e530",
   "metadata": {},
   "outputs": [],
   "source": [
    "def my_dot(a, b):\n",
    "    x = 0\n",
    "    for i in range(a.shape[0]):\n",
    "        x += a[i] * b[i]\n",
    "    return x"
   ]
  },
  {
   "cell_type": "code",
   "execution_count": 3,
   "id": "0b3089f8",
   "metadata": {},
   "outputs": [
    {
     "name": "stdout",
     "output_type": "stream",
     "text": [
      "np.dot(a, b) = 2500477.0603\n",
      "Vectorized version duration: 0.0000 ms\n",
      "\n",
      "my_dot(a, b) = 2500477.0603\n",
      "Loop version duration: 4230.7391 ms\n"
     ]
    }
   ],
   "source": [
    "a = np.random.rand(10000000)\n",
    "b = np.random.rand(10000000)\n",
    "\n",
    "tic = time.time()\n",
    "c = np.dot(a, b)\n",
    "toc = time.time()\n",
    "\n",
    "print(f\"np.dot(a, b) = {c:.4f}\")\n",
    "print(f\"Vectorized version duration: {1000*(toc-tic):.4f} ms\")\n",
    "\n",
    "tic = time.time()\n",
    "c = my_dot(a, b)\n",
    "toc = time.time()\n",
    "\n",
    "print(f\"\\nmy_dot(a, b) = {c:.4f}\")\n",
    "print(f\"Loop version duration: {1000*(toc-tic):.4f} ms\")\n",
    "\n",
    "del(a); del(b)"
   ]
  },
  {
   "cell_type": "markdown",
   "id": "ef879cad",
   "metadata": {},
   "source": [
    "# Regression"
   ]
  },
  {
   "cell_type": "code",
   "execution_count": 4,
   "id": "ae99fad2",
   "metadata": {},
   "outputs": [],
   "source": [
    "def compute_cost(x, y, w, b):\n",
    "    \"\"\"\n",
    "    Computes the cost function for linear regression.\n",
    "    \n",
    "    Args:\n",
    "        x (ndarray (m, )): Data, m examples\n",
    "        y (ndarray (m, )): Target values\n",
    "        w, b (scalar):     Model parameters\n",
    "        \n",
    "    Returns:\n",
    "    The cost function using w, b as parameters.\n",
    "    \"\"\"\n",
    "    \n",
    "    # number of training examples\n",
    "    m = x.shape[0]\n",
    "    \n",
    "    cost_sum = 0\n",
    "    for i in range(m):\n",
    "        f_wb = w * x[i] + b\n",
    "        cost = (f_wb - y[i]) ** 2\n",
    "        cost_sum += cost\n",
    "    \n",
    "    total_cost = (1 / 2*m) * cost_sum\n",
    "    return total_cost"
   ]
  },
  {
   "cell_type": "code",
   "execution_count": 50,
   "id": "74294ceb",
   "metadata": {},
   "outputs": [],
   "source": [
    "def compute_gradient(x, y, w, b):\n",
    "    \"\"\"\n",
    "    Computes the gradient for linear regression.\n",
    "    Args:\n",
    "        x (ndarray (m,)): Data, examples\n",
    "        y (ndarray (m,)): Target values\n",
    "        w, b, (scalar):   Model parameters\n",
    "    \n",
    "    Returns:\n",
    "        dj_dw (scalar): the gradient of J w.r.t w\n",
    "        dj_db (scalar): the gradient of J w.r.t b\n",
    "    \"\"\"\n",
    "    \n",
    "    # training examples\n",
    "    m = x.shape[0]\n",
    "    \n",
    "    dj_dw = 0\n",
    "    dj_db = 0\n",
    "    \n",
    "    for i in range(m):\n",
    "        f_wb = w * x[i] + b\n",
    "        dj_dw_i = (f_wb - y[i]) * x[i]\n",
    "        dj_db_i = f_wb - y[i]\n",
    "        \n",
    "        dj_dw += dj_dw_i\n",
    "        dj_db += dj_db_i\n",
    "    \n",
    "    dj_dw /= m\n",
    "    dj_db /= m\n",
    "    \n",
    "    return dj_dw, dj_db"
   ]
  },
  {
   "cell_type": "code",
   "execution_count": null,
   "id": "761eb62f",
   "metadata": {},
   "outputs": [],
   "source": []
  },
  {
   "cell_type": "markdown",
   "id": "cb682c35",
   "metadata": {},
   "source": [
    "# Simple Linear Regression\n",
    "Linear regression in one variable."
   ]
  },
  {
   "cell_type": "code",
   "execution_count": 66,
   "id": "012f02a4",
   "metadata": {},
   "outputs": [],
   "source": [
    "import numpy as np\n",
    "import matplotlib.pyplot as plt"
   ]
  },
  {
   "cell_type": "code",
   "execution_count": 67,
   "id": "71857acb",
   "metadata": {},
   "outputs": [],
   "source": [
    "def generate_data(func, n_points, noise=8.3):\n",
    "    \"\"\"\n",
    "    Generate synthetic data based on provided function.\n",
    "    \n",
    "    Parameters:\n",
    "        - func (callable): function to generate y-values.\n",
    "        - n_points (int): number of data points to generate.\n",
    "        - noise (float): Gaussian noise.\n",
    "    \"\"\"\n",
    "    \n",
    "    x = np.random.rand(n_points) * 50\n",
    "    err = np.random.normal(size=n_points) * noise\n",
    "    y = func(x) + err\n",
    "    \n",
    "    return x, y"
   ]
  },
  {
   "cell_type": "code",
   "execution_count": 68,
   "id": "b5fa6e7d",
   "metadata": {},
   "outputs": [],
   "source": [
    "def f(x):\n",
    "    return 3*x + 2\n",
    "\n",
    "def g(x):\n",
    "    return np.sqrt(x) + 15\n",
    "\n",
    "def sin(x):\n",
    "    return np.sin(x)"
   ]
  },
  {
   "cell_type": "code",
   "execution_count": 69,
   "id": "6cb8e741",
   "metadata": {},
   "outputs": [],
   "source": [
    "x_values, y_values = generate_data(f, 100)"
   ]
  },
  {
   "cell_type": "code",
   "execution_count": 70,
   "id": "64244b69",
   "metadata": {},
   "outputs": [],
   "source": [
    "def vis_data(x_values, y_values, y_label):\n",
    "    plt.scatter(x_values, y_values)\n",
    "    plt.xlabel(\"x-axis\")\n",
    "    plt.ylabel(y_label)\n",
    "    plt.title(\"Synthetic Data\")\n",
    "    plt.show()"
   ]
  },
  {
   "cell_type": "code",
   "execution_count": 71,
   "id": "b50c0db7",
   "metadata": {},
   "outputs": [
    {
     "data": {
      "image/png": "[encoded data removed]",
      "text/plain": [
       "<Figure size 640x480 with 1 Axes>"
      ]
     },
     "metadata": {},
     "output_type": "display_data"
    }
   ],
   "source": [
    "vis_data(x_values, y_values, 'f(x)')"
   ]
  },
  {
   "cell_type": "code",
   "execution_count": 72,
   "id": "963a215f",
   "metadata": {},
   "outputs": [],
   "source": [
    "def find_coefficients(x, y):\n",
    "    n = len(x)   # training examples\n",
    "    w = (n * x @ y - x.sum() * y.sum()) / (n * (x**2).sum() - x.sum()**2)\n",
    "    b = (y.sum() - w * x.sum()) / n\n",
    "    return w, b"
   ]
  },
  {
   "cell_type": "code",
   "execution_count": 73,
   "id": "12b120b9",
   "metadata": {},
   "outputs": [],
   "source": [
    "x_normalized = (x_values - np.mean(x_values)) / np.std(x_values)\n",
    "y_normalized = (y_values - np.mean(y_values)) / np.std(y_values)"
   ]
  },
  {
   "cell_type": "code",
   "execution_count": 74,
   "id": "f719e765",
   "metadata": {},
   "outputs": [],
   "source": [
    "w, b = find_coefficients(x_normalized, y_normalized)"
   ]
  },
  {
   "cell_type": "code",
   "execution_count": 75,
   "id": "f59bfcf1",
   "metadata": {},
   "outputs": [
    {
     "name": "stdout",
     "output_type": "stream",
     "text": [
      "w = 0.9809050828552103\n",
      "b = 1.4975058136730641e-16\n"
     ]
    }
   ],
   "source": [
    "print(f\"w = {w}\")\n",
    "print(f\"b = {b}\")"
   ]
  },
  {
   "cell_type": "code",
   "execution_count": 76,
   "id": "100e667c",
   "metadata": {},
   "outputs": [],
   "source": [
    "def predict(X, w, b):\n",
    "    y_pred = np.dot(X, w) + b\n",
    "    return y_pred"
   ]
  },
  {
   "cell_type": "code",
   "execution_count": 82,
   "id": "2bad7f89",
   "metadata": {},
   "outputs": [],
   "source": [
    "from sklearn.metrics import r2_score, mean_squared_error\n",
    "\n",
    "def evaluate(X, Y, w, b):\n",
    "    y_pred = predict(X, w, b)\n",
    "    mse = mean_squared_error(Y, y_pred)\n",
    "    r2 = r2_score(Y, y_pred)\n",
    "    return mse, r2"
   ]
  },
  {
   "cell_type": "code",
   "execution_count": 83,
   "id": "33ba53bc",
   "metadata": {},
   "outputs": [],
   "source": [
    "def plot_best_fit(X, Y, w, b):\n",
    "    plt.scatter(X, Y, label='Actual')\n",
    "    y_pred = predict(X, w, b)\n",
    "    \n",
    "    mse, r2 = evaluate(X, Y, w, b)\n",
    "    \n",
    "    plt.plot(X, y_pred, color='red', label=f\"Predicted (y = {w:.2f}x + {b:.2f}, MSE={mse:.2f}, R2={r2:.2f})\")\n",
    "    plt.xlabel('X')\n",
    "    plt.ylabel('Y')\n",
    "    plt.legend()\n",
    "    plt.show()"
   ]
  },
  {
   "cell_type": "code",
   "execution_count": 84,
   "id": "77e0c9ab",
   "metadata": {},
   "outputs": [
    {
     "data": {
      "image/png": "[encoded data removed]",
      "text/plain": [
       "<Figure size 640x480 with 1 Axes>"
      ]
     },
     "metadata": {},
     "output_type": "display_data"
    }
   ],
   "source": [
    "plot_best_fit(x_normalized, y_normalized, w, b)"
   ]
  },
  {
   "cell_type": "code",
   "execution_count": 80,
   "id": "ec7fe4f3",
   "metadata": {},
   "outputs": [],
   "source": [
    "# NEXT: split data into 80/20. Train model on the 80% and test it on 20%"
   ]
  },
  {
   "cell_type": "code",
   "execution_count": 81,
   "id": "a59c3efd",
   "metadata": {},
   "outputs": [],
   "source": []
  },
  {
   "cell_type": "code",
   "execution_count": null,
   "id": "5f9e255e",
   "metadata": {},
   "outputs": [],
   "source": []
  },
  {
   "cell_type": "code",
   "execution_count": null,
   "id": "fabac7ea",
   "metadata": {},
   "outputs": [],
   "source": []
  }
 ],
 "metadata": {
  "kernelspec": {
   "display_name": "Python 3 (ipykernel)",
   "language": "python",
   "name": "python3"
  },
  "language_info": {
   "codemirror_mode": {
    "name": "ipython",
    "version": 3
   },
   "file_extension": ".py",
   "mimetype": "text/x-python",
   "name": "python",
   "nbconvert_exporter": "python",
   "pygments_lexer": "ipython3",
   "version": "3.10.9"
  }
 },
 "nbformat": 4,
 "nbformat_minor": 5
}
