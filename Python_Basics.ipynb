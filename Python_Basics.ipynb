{
 "cells": [
  {
   "cell_type": "code",
   "execution_count": 1,
   "id": "05726d11",
   "metadata": {},
   "outputs": [
    {
     "data": {
      "text/plain": [
       "5.0"
      ]
     },
     "execution_count": 1,
     "metadata": {},
     "output_type": "execute_result"
    }
   ],
   "source": [
    "import math\n",
    "math.sqrt(25)"
   ]
  },
  {
   "cell_type": "code",
   "execution_count": 10,
   "id": "c058ee11",
   "metadata": {},
   "outputs": [
    {
     "data": {
      "text/plain": [
       "6.0"
      ]
     },
     "execution_count": 10,
     "metadata": {},
     "output_type": "execute_result"
    }
   ],
   "source": [
    "from math import sqrt\n",
    "sqrt(36)"
   ]
  },
  {
   "cell_type": "code",
   "execution_count": 11,
   "id": "92488e2e",
   "metadata": {},
   "outputs": [
    {
     "data": {
      "text/plain": [
       "3"
      ]
     },
     "execution_count": 11,
     "metadata": {},
     "output_type": "execute_result"
    }
   ],
   "source": [
    "from math import cos, floor\n",
    "floor(3.6)"
   ]
  },
  {
   "cell_type": "code",
   "execution_count": 12,
   "id": "aebdccda",
   "metadata": {},
   "outputs": [
    {
     "data": {
      "text/plain": [
       "1.0"
      ]
     },
     "execution_count": 12,
     "metadata": {},
     "output_type": "execute_result"
    }
   ],
   "source": [
    "cos(0)"
   ]
  },
  {
   "cell_type": "code",
   "execution_count": null,
   "id": "6bd4c3ae",
   "metadata": {},
   "outputs": [],
   "source": [
    "import numpy as np"
   ]
  },
  {
   "cell_type": "code",
   "execution_count": 13,
   "id": "5b174e68",
   "metadata": {},
   "outputs": [
    {
     "data": {
      "text/plain": [
       "4"
      ]
     },
     "execution_count": 13,
     "metadata": {},
     "output_type": "execute_result"
    }
   ],
   "source": [
    "2 ** 2"
   ]
  },
  {
   "cell_type": "code",
   "execution_count": 14,
   "id": "2b72f653",
   "metadata": {},
   "outputs": [
    {
     "data": {
      "text/plain": [
       "2.5"
      ]
     },
     "execution_count": 14,
     "metadata": {},
     "output_type": "execute_result"
    }
   ],
   "source": [
    "10 / 4"
   ]
  },
  {
   "cell_type": "code",
   "execution_count": 15,
   "id": "2f113889",
   "metadata": {},
   "outputs": [
    {
     "data": {
      "text/plain": [
       "2"
      ]
     },
     "execution_count": 15,
     "metadata": {},
     "output_type": "execute_result"
    }
   ],
   "source": [
    "10 // 4"
   ]
  },
  {
   "cell_type": "code",
   "execution_count": 16,
   "id": "406e556a",
   "metadata": {},
   "outputs": [
    {
     "data": {
      "text/plain": [
       "1"
      ]
     },
     "execution_count": 16,
     "metadata": {},
     "output_type": "execute_result"
    }
   ],
   "source": [
    "5 % 4"
   ]
  },
  {
   "cell_type": "code",
   "execution_count": 17,
   "id": "90364b92",
   "metadata": {},
   "outputs": [
    {
     "data": {
      "text/plain": [
       "False"
      ]
     },
     "execution_count": 17,
     "metadata": {},
     "output_type": "execute_result"
    }
   ],
   "source": [
    "5 == 3"
   ]
  },
  {
   "cell_type": "code",
   "execution_count": 18,
   "id": "49dc137c",
   "metadata": {},
   "outputs": [
    {
     "data": {
      "text/plain": [
       "True"
      ]
     },
     "execution_count": 18,
     "metadata": {},
     "output_type": "execute_result"
    }
   ],
   "source": [
    "5 > 3 and 2 < 4"
   ]
  },
  {
   "cell_type": "code",
   "execution_count": 21,
   "id": "616a6b99",
   "metadata": {},
   "outputs": [
    {
     "data": {
      "text/plain": [
       "str"
      ]
     },
     "execution_count": 21,
     "metadata": {},
     "output_type": "execute_result"
    }
   ],
   "source": [
    "type('2')"
   ]
  },
  {
   "cell_type": "code",
   "execution_count": 22,
   "id": "7b278f36",
   "metadata": {},
   "outputs": [
    {
     "data": {
      "text/plain": [
       "True"
      ]
     },
     "execution_count": 22,
     "metadata": {},
     "output_type": "execute_result"
    }
   ],
   "source": [
    "isinstance(2, int)"
   ]
  },
  {
   "cell_type": "code",
   "execution_count": 23,
   "id": "76830cf0",
   "metadata": {},
   "outputs": [
    {
     "data": {
      "text/plain": [
       "2"
      ]
     },
     "execution_count": 23,
     "metadata": {},
     "output_type": "execute_result"
    }
   ],
   "source": [
    "int(2.3)"
   ]
  },
  {
   "cell_type": "code",
   "execution_count": 24,
   "id": "a14b03b5",
   "metadata": {},
   "outputs": [],
   "source": [
    "empty_list = []\n",
    "empty_list = list()"
   ]
  },
  {
   "cell_type": "code",
   "execution_count": 25,
   "id": "6e7dcaa4",
   "metadata": {},
   "outputs": [],
   "source": [
    "a = ['million', 'ai', 'class']"
   ]
  },
  {
   "cell_type": "code",
   "execution_count": 26,
   "id": "77bed0df",
   "metadata": {},
   "outputs": [
    {
     "data": {
      "text/plain": [
       "'million'"
      ]
     },
     "execution_count": 26,
     "metadata": {},
     "output_type": "execute_result"
    }
   ],
   "source": [
    "a[0]"
   ]
  },
  {
   "cell_type": "code",
   "execution_count": 27,
   "id": "83ee1ac6",
   "metadata": {},
   "outputs": [],
   "source": [
    "mix = [2, 'million', 3.5]"
   ]
  },
  {
   "cell_type": "code",
   "execution_count": 28,
   "id": "431e225b",
   "metadata": {},
   "outputs": [
    {
     "data": {
      "text/plain": [
       "3"
      ]
     },
     "execution_count": 28,
     "metadata": {},
     "output_type": "execute_result"
    }
   ],
   "source": [
    "len(mix)"
   ]
  },
  {
   "cell_type": "code",
   "execution_count": 51,
   "id": "18674d37",
   "metadata": {},
   "outputs": [],
   "source": [
    "g = [1, 2, 3]"
   ]
  },
  {
   "cell_type": "code",
   "execution_count": 52,
   "id": "e5953110",
   "metadata": {},
   "outputs": [],
   "source": [
    "h = [4, 5, 6]"
   ]
  },
  {
   "cell_type": "code",
   "execution_count": 53,
   "id": "7af3fa9c",
   "metadata": {},
   "outputs": [],
   "source": [
    "g.append(h)"
   ]
  },
  {
   "cell_type": "code",
   "execution_count": 54,
   "id": "1f131698",
   "metadata": {},
   "outputs": [
    {
     "data": {
      "text/plain": [
       "[1, 2, 3, [4, 5, 6]]"
      ]
     },
     "execution_count": 54,
     "metadata": {},
     "output_type": "execute_result"
    }
   ],
   "source": [
    "g"
   ]
  },
  {
   "cell_type": "code",
   "execution_count": 55,
   "id": "07ee4be4",
   "metadata": {},
   "outputs": [
    {
     "data": {
      "text/plain": [
       "[4, 5, 6, 1, 2, 3]"
      ]
     },
     "execution_count": 55,
     "metadata": {},
     "output_type": "execute_result"
    }
   ],
   "source": [
    "z = [4, 5, 6]\n",
    "y = [1, 2, 3]\n",
    "z.extend(y)\n",
    "z"
   ]
  },
  {
   "cell_type": "code",
   "execution_count": 58,
   "id": "656bb6f2",
   "metadata": {},
   "outputs": [
    {
     "name": "stdout",
     "output_type": "stream",
     "text": [
      "mon\n",
      "fri\n"
     ]
    }
   ],
   "source": [
    "weekdays = ['mon', 'tue', 'wed', 'thur', 'fri']\n",
    "print(weekdays[0])\n",
    "print(weekdays[-1])"
   ]
  },
  {
   "cell_type": "code",
   "execution_count": 59,
   "id": "f49240f8",
   "metadata": {},
   "outputs": [
    {
     "data": {
      "text/plain": [
       "['mon', 'tue', 'wed']"
      ]
     },
     "execution_count": 59,
     "metadata": {},
     "output_type": "execute_result"
    }
   ],
   "source": [
    "weekdays[0:3]"
   ]
  },
  {
   "cell_type": "code",
   "execution_count": 60,
   "id": "6af0988a",
   "metadata": {},
   "outputs": [
    {
     "data": {
      "text/plain": [
       "['mon', 'wed', 'fri']"
      ]
     },
     "execution_count": 60,
     "metadata": {},
     "output_type": "execute_result"
    }
   ],
   "source": [
    "weekdays[::2]"
   ]
  },
  {
   "cell_type": "code",
   "execution_count": 61,
   "id": "2995dc87",
   "metadata": {},
   "outputs": [
    {
     "data": {
      "text/plain": [
       "['fri', 'thur', 'wed', 'tue', 'mon']"
      ]
     },
     "execution_count": 61,
     "metadata": {},
     "output_type": "execute_result"
    }
   ],
   "source": [
    "weekdays[::-1]"
   ]
  },
  {
   "cell_type": "code",
   "execution_count": 62,
   "id": "47e4bdd7",
   "metadata": {},
   "outputs": [
    {
     "data": {
      "text/plain": [
       "['fri', 'mon', 'thur', 'tue', 'wed']"
      ]
     },
     "execution_count": 62,
     "metadata": {},
     "output_type": "execute_result"
    }
   ],
   "source": [
    "sorted(weekdays)"
   ]
  },
  {
   "cell_type": "code",
   "execution_count": 63,
   "id": "f5d6f10a",
   "metadata": {},
   "outputs": [
    {
     "data": {
      "text/plain": [
       "['mon', 'tue', 'wed', 'thur', 'fri']"
      ]
     },
     "execution_count": 63,
     "metadata": {},
     "output_type": "execute_result"
    }
   ],
   "source": [
    "weekdays"
   ]
  },
  {
   "cell_type": "code",
   "execution_count": 71,
   "id": "50797266",
   "metadata": {},
   "outputs": [
    {
     "data": {
      "text/plain": [
       "['wed', 'thur', 'fri']"
      ]
     },
     "execution_count": 71,
     "metadata": {},
     "output_type": "execute_result"
    }
   ],
   "source": [
    "weekdays[-3:]"
   ]
  },
  {
   "cell_type": "code",
   "execution_count": 74,
   "id": "76c7a0b4",
   "metadata": {},
   "outputs": [],
   "source": [
    "# this is a comment\n",
    "weekdays.sort(reverse=True)"
   ]
  },
  {
   "cell_type": "code",
   "execution_count": 75,
   "id": "54354144",
   "metadata": {},
   "outputs": [
    {
     "data": {
      "text/plain": [
       "['wed', 'tue', 'thur', 'mon', 'fri']"
      ]
     },
     "execution_count": 75,
     "metadata": {},
     "output_type": "execute_result"
    }
   ],
   "source": [
    "weekdays"
   ]
  },
  {
   "cell_type": "code",
   "execution_count": 76,
   "id": "3e4e6d83",
   "metadata": {},
   "outputs": [],
   "source": [
    "newlist = [1, 2, 3] + ['a', 'b', 'c']"
   ]
  },
  {
   "cell_type": "code",
   "execution_count": 77,
   "id": "40afa057",
   "metadata": {},
   "outputs": [
    {
     "data": {
      "text/plain": [
       "[1, 2, 3, 'a', 'b', 'c']"
      ]
     },
     "execution_count": 77,
     "metadata": {},
     "output_type": "execute_result"
    }
   ],
   "source": [
    "newlist"
   ]
  },
  {
   "cell_type": "code",
   "execution_count": 79,
   "id": "1dee1373",
   "metadata": {},
   "outputs": [
    {
     "data": {
      "text/plain": [
       "['a', 'a', 'a']"
      ]
     },
     "execution_count": 79,
     "metadata": {},
     "output_type": "execute_result"
    }
   ],
   "source": [
    "['a'] * 3"
   ]
  },
  {
   "cell_type": "code",
   "execution_count": 80,
   "id": "fdc3c18a",
   "metadata": {},
   "outputs": [],
   "source": [
    "# tuple\n",
    "digits = (0, 1, 'two')"
   ]
  },
  {
   "cell_type": "code",
   "execution_count": 81,
   "id": "b452ba6f",
   "metadata": {},
   "outputs": [
    {
     "data": {
      "text/plain": [
       "(0, 1, 'two')"
      ]
     },
     "execution_count": 81,
     "metadata": {},
     "output_type": "execute_result"
    }
   ],
   "source": [
    "digits"
   ]
  },
  {
   "cell_type": "code",
   "execution_count": 82,
   "id": "dbc7243d",
   "metadata": {},
   "outputs": [],
   "source": [
    "digits = tuple([1, 1, 2, 3, 'a'])"
   ]
  },
  {
   "cell_type": "code",
   "execution_count": 83,
   "id": "01ed3882",
   "metadata": {},
   "outputs": [
    {
     "data": {
      "text/plain": [
       "(1, 1, 2, 3, 'a')"
      ]
     },
     "execution_count": 83,
     "metadata": {},
     "output_type": "execute_result"
    }
   ],
   "source": [
    "digits"
   ]
  },
  {
   "cell_type": "code",
   "execution_count": 87,
   "id": "1add2352",
   "metadata": {},
   "outputs": [],
   "source": [
    "zero = (0,)"
   ]
  },
  {
   "cell_type": "code",
   "execution_count": 89,
   "id": "b9c52d9b",
   "metadata": {},
   "outputs": [
    {
     "data": {
      "text/plain": [
       "tuple"
      ]
     },
     "execution_count": 89,
     "metadata": {},
     "output_type": "execute_result"
    }
   ],
   "source": [
    "zero\n",
    "type(zero)"
   ]
  },
  {
   "cell_type": "code",
   "execution_count": null,
   "id": "0c413336",
   "metadata": {},
   "outputs": [],
   "source": [
    "problem = (3 * 2) - 14"
   ]
  },
  {
   "cell_type": "code",
   "execution_count": 90,
   "id": "2644cf03",
   "metadata": {},
   "outputs": [
    {
     "data": {
      "text/plain": [
       "2"
      ]
     },
     "execution_count": 90,
     "metadata": {},
     "output_type": "execute_result"
    }
   ],
   "source": [
    "digits.count(1)"
   ]
  },
  {
   "cell_type": "code",
   "execution_count": 91,
   "id": "bf20086e",
   "metadata": {},
   "outputs": [
    {
     "data": {
      "text/plain": [
       "0"
      ]
     },
     "execution_count": 91,
     "metadata": {},
     "output_type": "execute_result"
    }
   ],
   "source": [
    "digits.index(1)"
   ]
  },
  {
   "cell_type": "code",
   "execution_count": 92,
   "id": "00f8668f",
   "metadata": {},
   "outputs": [
    {
     "ename": "TypeError",
     "evalue": "'tuple' object does not support item assignment",
     "output_type": "error",
     "traceback": [
      "\u001b[1;31m---------------------------------------------------------------------------\u001b[0m",
      "\u001b[1;31mTypeError\u001b[0m                                 Traceback (most recent call last)",
      "Cell \u001b[1;32mIn[92], line 1\u001b[0m\n\u001b[1;32m----> 1\u001b[0m \u001b[43mdigits\u001b[49m\u001b[43m[\u001b[49m\u001b[38;5;241;43m2\u001b[39;49m\u001b[43m]\u001b[49m \u001b[38;5;241m=\u001b[39m \u001b[38;5;241m2\u001b[39m\n",
      "\u001b[1;31mTypeError\u001b[0m: 'tuple' object does not support item assignment"
     ]
    }
   ],
   "source": [
    "digits[2] = 2"
   ]
  },
  {
   "cell_type": "code",
   "execution_count": 93,
   "id": "6ae5d349",
   "metadata": {},
   "outputs": [
    {
     "data": {
      "text/plain": [
       "'42'"
      ]
     },
     "execution_count": 93,
     "metadata": {},
     "output_type": "execute_result"
    }
   ],
   "source": [
    "# String\n",
    "s = str(42)\n",
    "s"
   ]
  },
  {
   "cell_type": "code",
   "execution_count": 94,
   "id": "f12b098a",
   "metadata": {},
   "outputs": [
    {
     "data": {
      "text/plain": [
       "'t'"
      ]
     },
     "execution_count": 94,
     "metadata": {},
     "output_type": "execute_result"
    }
   ],
   "source": [
    "s = 'this is python'\n",
    "s[0]"
   ]
  },
  {
   "cell_type": "code",
   "execution_count": 96,
   "id": "0a112151",
   "metadata": {},
   "outputs": [
    {
     "name": "stdout",
     "output_type": "stream",
     "text": [
      "['is', 'python']\n"
     ]
    }
   ],
   "source": [
    "print(s.split()[1:])"
   ]
  },
  {
   "cell_type": "code",
   "execution_count": 97,
   "id": "4fb34b6f",
   "metadata": {},
   "outputs": [
    {
     "data": {
      "text/plain": [
       "['this', 'is', 'python']"
      ]
     },
     "execution_count": 97,
     "metadata": {},
     "output_type": "execute_result"
    }
   ],
   "source": [
    "s.split()"
   ]
  },
  {
   "cell_type": "code",
   "execution_count": 98,
   "id": "8db98ec6",
   "metadata": {},
   "outputs": [
    {
     "data": {
      "text/plain": [
       "['is', 'python']"
      ]
     },
     "execution_count": 98,
     "metadata": {},
     "output_type": "execute_result"
    }
   ],
   "source": [
    "s.split()[1:]"
   ]
  },
  {
   "cell_type": "code",
   "execution_count": 102,
   "id": "b5ec44e6",
   "metadata": {},
   "outputs": [
    {
     "name": "stdout",
     "output_type": "stream",
     "text": [
      "is\n",
      "python\n"
     ]
    }
   ],
   "source": [
    "print('\\n'.join(s.split()[1:]))"
   ]
  },
  {
   "cell_type": "code",
   "execution_count": 103,
   "id": "10b0bac6",
   "metadata": {},
   "outputs": [
    {
     "data": {
      "text/plain": [
       "'this is python'"
      ]
     },
     "execution_count": 103,
     "metadata": {},
     "output_type": "execute_result"
    }
   ],
   "source": [
    "s"
   ]
  },
  {
   "cell_type": "code",
   "execution_count": 104,
   "id": "2af845c2",
   "metadata": {},
   "outputs": [
    {
     "data": {
      "text/plain": [
       "'s is'"
      ]
     },
     "execution_count": 104,
     "metadata": {},
     "output_type": "execute_result"
    }
   ],
   "source": [
    "s[3:7]"
   ]
  },
  {
   "cell_type": "code",
   "execution_count": 105,
   "id": "e7ab9a5f",
   "metadata": {},
   "outputs": [
    {
     "data": {
      "text/plain": [
       "'n'"
      ]
     },
     "execution_count": 105,
     "metadata": {},
     "output_type": "execute_result"
    }
   ],
   "source": [
    "s[-1]"
   ]
  },
  {
   "cell_type": "code",
   "execution_count": 107,
   "id": "3ec017b9",
   "metadata": {},
   "outputs": [
    {
     "data": {
      "text/plain": [
       "'THIS IS PYTHON'"
      ]
     },
     "execution_count": 107,
     "metadata": {},
     "output_type": "execute_result"
    }
   ],
   "source": [
    "s.upper()"
   ]
  },
  {
   "cell_type": "code",
   "execution_count": 108,
   "id": "482366d0",
   "metadata": {},
   "outputs": [
    {
     "data": {
      "text/plain": [
       "'This Is Python'"
      ]
     },
     "execution_count": 108,
     "metadata": {},
     "output_type": "execute_result"
    }
   ],
   "source": [
    "s.title()"
   ]
  },
  {
   "cell_type": "code",
   "execution_count": 110,
   "id": "3c301b61",
   "metadata": {},
   "outputs": [
    {
     "data": {
      "text/plain": [
       "True"
      ]
     },
     "execution_count": 110,
     "metadata": {},
     "output_type": "execute_result"
    }
   ],
   "source": [
    "s.startswith('t')"
   ]
  },
  {
   "cell_type": "code",
   "execution_count": 111,
   "id": "0b398ab1",
   "metadata": {},
   "outputs": [
    {
     "data": {
      "text/plain": [
       "2"
      ]
     },
     "execution_count": 111,
     "metadata": {},
     "output_type": "execute_result"
    }
   ],
   "source": [
    "s.find('is')"
   ]
  },
  {
   "cell_type": "code",
   "execution_count": 113,
   "id": "cfe78743",
   "metadata": {},
   "outputs": [
    {
     "data": {
      "text/plain": [
       "'python is easy'"
      ]
     },
     "execution_count": 113,
     "metadata": {},
     "output_type": "execute_result"
    }
   ],
   "source": [
    "s1 = 'python'\n",
    "s2 = 'is easy'\n",
    "\n",
    "s1 + ' ' + s2"
   ]
  },
  {
   "cell_type": "code",
   "execution_count": 114,
   "id": "d459c56e",
   "metadata": {},
   "outputs": [
    {
     "name": "stdout",
     "output_type": "stream",
     "text": [
      "pythonis easy\n"
     ]
    }
   ],
   "source": [
    "print(s1 + s2)"
   ]
  },
  {
   "cell_type": "code",
   "execution_count": 118,
   "id": "bfd502cd",
   "metadata": {},
   "outputs": [
    {
     "name": "stdout",
     "output_type": "stream",
     "text": [
      "This is an int 10.00\n"
     ]
    }
   ],
   "source": [
    "print(f\"This is an int %.2f\" % 10)"
   ]
  },
  {
   "cell_type": "code",
   "execution_count": 119,
   "id": "522221cb",
   "metadata": {},
   "outputs": [
    {
     "name": "stdout",
     "output_type": "stream",
     "text": [
      "this is an int 10 - 8\n"
     ]
    }
   ],
   "source": [
    "print(f\"this is an int {10} - {2**3}\")"
   ]
  },
  {
   "cell_type": "code",
   "execution_count": 120,
   "id": "ff0c9e66",
   "metadata": {},
   "outputs": [
    {
     "name": "stdout",
     "output_type": "stream",
     "text": [
      "raining cats and dogs\n"
     ]
    }
   ],
   "source": [
    "print('raining %s and %s' % ('cats', 'dogs'))"
   ]
  },
  {
   "cell_type": "code",
   "execution_count": 124,
   "id": "e302846b",
   "metadata": {},
   "outputs": [
    {
     "name": "stdout",
     "output_type": "stream",
     "text": [
      "raining cats and dogs\n"
     ]
    }
   ],
   "source": [
    "print('raining {} and {}'.format('cats', 'dogs'))"
   ]
  },
  {
   "cell_type": "code",
   "execution_count": null,
   "id": "8c5eba6b",
   "metadata": {},
   "outputs": [],
   "source": []
  },
  {
   "cell_type": "code",
   "execution_count": 125,
   "id": "881f4437",
   "metadata": {},
   "outputs": [],
   "source": [
    "dictionary = {'a': 1, 'b': 2, 'c': 3}"
   ]
  },
  {
   "cell_type": "code",
   "execution_count": 126,
   "id": "8efe6e14",
   "metadata": {},
   "outputs": [
    {
     "data": {
      "text/plain": [
       "dict_keys(['a', 'b', 'c'])"
      ]
     },
     "execution_count": 126,
     "metadata": {},
     "output_type": "execute_result"
    }
   ],
   "source": [
    "dictionary.keys()"
   ]
  },
  {
   "cell_type": "code",
   "execution_count": 127,
   "id": "e9b06499",
   "metadata": {},
   "outputs": [
    {
     "data": {
      "text/plain": [
       "dict_values([1, 2, 3])"
      ]
     },
     "execution_count": 127,
     "metadata": {},
     "output_type": "execute_result"
    }
   ],
   "source": [
    "dictionary.values()"
   ]
  },
  {
   "cell_type": "code",
   "execution_count": 128,
   "id": "175027e0",
   "metadata": {},
   "outputs": [
    {
     "data": {
      "text/plain": [
       "dict_items([('a', 1), ('b', 2), ('c', 3)])"
      ]
     },
     "execution_count": 128,
     "metadata": {},
     "output_type": "execute_result"
    }
   ],
   "source": [
    "dictionary.items()"
   ]
  },
  {
   "cell_type": "code",
   "execution_count": 130,
   "id": "db43f85d",
   "metadata": {},
   "outputs": [],
   "source": [
    "x = dict(a='value1', b='value2')"
   ]
  },
  {
   "cell_type": "code",
   "execution_count": 131,
   "id": "111a845c",
   "metadata": {},
   "outputs": [
    {
     "data": {
      "text/plain": [
       "{'a': 'value1', 'b': 'value2'}"
      ]
     },
     "execution_count": 131,
     "metadata": {},
     "output_type": "execute_result"
    }
   ],
   "source": [
    "x"
   ]
  },
  {
   "cell_type": "code",
   "execution_count": 132,
   "id": "a05c9c25",
   "metadata": {},
   "outputs": [
    {
     "data": {
      "text/plain": [
       "2"
      ]
     },
     "execution_count": 132,
     "metadata": {},
     "output_type": "execute_result"
    }
   ],
   "source": [
    "dictionary['b']"
   ]
  },
  {
   "cell_type": "code",
   "execution_count": 136,
   "id": "7f7976c5",
   "metadata": {},
   "outputs": [
    {
     "name": "stdout",
     "output_type": "stream",
     "text": [
      "{1, 2, 3, 4}\n"
     ]
    },
    {
     "data": {
      "text/plain": [
       "set"
      ]
     },
     "execution_count": 136,
     "metadata": {},
     "output_type": "execute_result"
    }
   ],
   "source": [
    "# Sets\n",
    "s = [1, 2, 3, 3, 4]\n",
    "s = set(s)\n",
    "print(s)\n",
    "\n",
    "s = {1, 2, 3, 3, 4}\n",
    "type(s)"
   ]
  },
  {
   "cell_type": "code",
   "execution_count": 137,
   "id": "040d8d0c",
   "metadata": {},
   "outputs": [],
   "source": [
    "languages = {'python', 'r', 'java'}\n",
    "snakes = set(['cobra', 'viper', 'python'])"
   ]
  },
  {
   "cell_type": "code",
   "execution_count": 138,
   "id": "727e1006",
   "metadata": {},
   "outputs": [
    {
     "data": {
      "text/plain": [
       "{'cobra', 'java', 'python', 'r', 'viper'}"
      ]
     },
     "execution_count": 138,
     "metadata": {},
     "output_type": "execute_result"
    }
   ],
   "source": [
    "languages | snakes"
   ]
  },
  {
   "cell_type": "code",
   "execution_count": 139,
   "id": "dd849524",
   "metadata": {},
   "outputs": [
    {
     "data": {
      "text/plain": [
       "{'python'}"
      ]
     },
     "execution_count": 139,
     "metadata": {},
     "output_type": "execute_result"
    }
   ],
   "source": [
    "languages & snakes"
   ]
  },
  {
   "cell_type": "code",
   "execution_count": 140,
   "id": "585f9f79",
   "metadata": {},
   "outputs": [
    {
     "data": {
      "text/plain": [
       "{'java', 'r'}"
      ]
     },
     "execution_count": 140,
     "metadata": {},
     "output_type": "execute_result"
    }
   ],
   "source": [
    "languages - snakes"
   ]
  },
  {
   "cell_type": "code",
   "execution_count": 141,
   "id": "d80f6aab",
   "metadata": {},
   "outputs": [
    {
     "name": "stdout",
     "output_type": "stream",
     "text": [
      "positive\n"
     ]
    }
   ],
   "source": [
    "x = 3\n",
    "if x > 0:\n",
    "    print('positive')"
   ]
  },
  {
   "cell_type": "code",
   "execution_count": 142,
   "id": "82170bc3",
   "metadata": {},
   "outputs": [
    {
     "name": "stdout",
     "output_type": "stream",
     "text": [
      "else statment\n"
     ]
    }
   ],
   "source": [
    "if x < 0:\n",
    "    print('negative')\n",
    "else:\n",
    "    print('else statment')"
   ]
  },
  {
   "cell_type": "code",
   "execution_count": null,
   "id": "6497a86f",
   "metadata": {},
   "outputs": [],
   "source": [
    "if x:\n",
    "    print()\n",
    "elif x == 3:\n",
    "    print()\n",
    "else:\n",
    "    print()"
   ]
  },
  {
   "cell_type": "code",
   "execution_count": 145,
   "id": "e649d3e8",
   "metadata": {},
   "outputs": [
    {
     "name": "stdout",
     "output_type": "stream",
     "text": [
      "positive\n"
     ]
    }
   ],
   "source": [
    "if x > 0: print('positive')"
   ]
  },
  {
   "cell_type": "code",
   "execution_count": 146,
   "id": "329902ae",
   "metadata": {},
   "outputs": [],
   "source": [
    "# one-liners\n",
    "sign = 'positive' if x > 0 else 'negative'"
   ]
  },
  {
   "cell_type": "code",
   "execution_count": 147,
   "id": "b1575d03",
   "metadata": {},
   "outputs": [
    {
     "data": {
      "text/plain": [
       "'positive'"
      ]
     },
     "execution_count": 147,
     "metadata": {},
     "output_type": "execute_result"
    }
   ],
   "source": [
    "sign"
   ]
  },
  {
   "cell_type": "code",
   "execution_count": 8,
   "id": "87337473",
   "metadata": {},
   "outputs": [
    {
     "name": "stdout",
     "output_type": "stream",
     "text": [
      "1\n",
      "8\n",
      "27\n",
      "64\n",
      "125\n"
     ]
    }
   ],
   "source": [
    "# for loop\n",
    "loop_list = [1, 2, 3, 4, 5, 6, 7, 8, 9, 10]\n",
    "# for i in range(len(loop_list)):\n",
    "#     print(loop_list[i]**2)\n",
    "    \n",
    "    \n",
    "# for i in loop_list[::2]:\n",
    "#     print(i**2)\n",
    "    \n",
    "for i in [1, 2, 3, 4, 5]:\n",
    "    print(i**3)"
   ]
  },
  {
   "cell_type": "code",
   "execution_count": 15,
   "id": "a7477c75",
   "metadata": {},
   "outputs": [
    {
     "name": "stdout",
     "output_type": "stream",
     "text": [
      "a\n",
      "b\n",
      "c\n",
      "exit loop\n"
     ]
    }
   ],
   "source": [
    "new_list = ['a', 'b', 'c']\n",
    "\n",
    "i = 0\n",
    "while i < len(new_list):\n",
    "    print(new_list[i])\n",
    "    i += 1\n",
    "\n",
    "print('exit loop')"
   ]
  },
  {
   "cell_type": "code",
   "execution_count": 21,
   "id": "2b160481",
   "metadata": {},
   "outputs": [
    {
     "name": "stdout",
     "output_type": "stream",
     "text": [
      "25\n"
     ]
    }
   ],
   "source": [
    "# Count words in a sentence\n",
    "quote = \"\"\"\n",
    "our incomes are like our shoes; if too small they gall and pinch us\n",
    "but if too large they cause us to stumble and trip\n",
    "\"\"\"\n",
    "\n",
    "words = quote.split()\n",
    "count = 0\n",
    "for i in words:\n",
    "    count += 1\n",
    "print(count)"
   ]
  },
  {
   "cell_type": "code",
   "execution_count": 22,
   "id": "7010ce33",
   "metadata": {},
   "outputs": [
    {
     "name": "stdout",
     "output_type": "stream",
     "text": [
      "['our', 'incomes', 'are', 'like', 'our', 'shoes;', 'if', 'too', 'small', 'they', 'gall', 'and', 'pinch', 'us', 'but', 'if', 'too', 'large', 'they', 'cause', 'us', 'to', 'stumble', 'and', 'trip']\n"
     ]
    }
   ],
   "source": [
    "print(words)"
   ]
  },
  {
   "cell_type": "code",
   "execution_count": 23,
   "id": "a54cd624",
   "metadata": {},
   "outputs": [
    {
     "name": "stdout",
     "output_type": "stream",
     "text": [
      "{'our': 2, 'incomes': 1, 'are': 1, 'like': 1, 'shoes;': 1, 'if': 2, 'too': 2, 'small': 1, 'they': 2, 'gall': 1, 'and': 2, 'pinch': 1, 'us': 2, 'but': 1, 'large': 1, 'cause': 1, 'to': 1, 'stumble': 1, 'trip': 1}\n"
     ]
    }
   ],
   "source": [
    "dictionary = {}\n",
    "for word in words:\n",
    "    if word in dictionary:\n",
    "        dictionary[word] +=1 \n",
    "    else:\n",
    "        dictionary[word] = 1\n",
    "\n",
    "print(dictionary)"
   ]
  },
  {
   "cell_type": "code",
   "execution_count": 24,
   "id": "0652f4f4",
   "metadata": {},
   "outputs": [
    {
     "name": "stdout",
     "output_type": "stream",
     "text": [
      "{'us': 2, 'they': 2, 'pinch': 1, 'large': 1, 'stumble': 1, 'shoes;': 1, 'gall': 1, 'if': 2, 'cause': 1, 'are': 1, 'our': 2, 'but': 1, 'trip': 1, 'like': 1, 'small': 1, 'incomes': 1, 'to': 1, 'too': 2, 'and': 2}\n"
     ]
    }
   ],
   "source": [
    "count = {k:0 for k in set(quote.split())}\n",
    "for word in quote.split():\n",
    "    count[word] += 1\n",
    "print(count)"
   ]
  },
  {
   "cell_type": "code",
   "execution_count": 27,
   "id": "0f24ee2d",
   "metadata": {},
   "outputs": [
    {
     "name": "stdout",
     "output_type": "stream",
     "text": [
      "dad homer\n",
      "mom marge\n",
      "size 6\n"
     ]
    }
   ],
   "source": [
    "# iterate through two things at once\n",
    "family = {'dad':'homer', 'mom':'marge', 'size':6}\n",
    "\n",
    "for key, value in family.items():\n",
    "    print(key, value)"
   ]
  },
  {
   "cell_type": "code",
   "execution_count": 30,
   "id": "35474671",
   "metadata": {},
   "outputs": [
    {
     "name": "stdout",
     "output_type": "stream",
     "text": [
      "0 apple\n",
      "1 banana\n",
      "2 orange\n"
     ]
    }
   ],
   "source": [
    "fruits = ['apple', 'banana', 'orange']\n",
    "\n",
    "for i, j in enumerate(fruits):\n",
    "    print(i, j)\n",
    "    \n",
    "    (1,)"
   ]
  },
  {
   "cell_type": "code",
   "execution_count": 32,
   "id": "627b82d2",
   "metadata": {},
   "outputs": [
    {
     "name": "stdout",
     "output_type": "stream",
     "text": [
      "1a\n",
      "2b\n",
      "3c\n",
      "4d\n"
     ]
    }
   ],
   "source": [
    "list1 = [1, 2, 3, 4]\n",
    "list2 = ['a', 'b', 'c', 'd', 'e']\n",
    "\n",
    "for i, j in zip(list1, list2):\n",
    "    print(f\"{i}{j}\")"
   ]
  },
  {
   "cell_type": "code",
   "execution_count": 33,
   "id": "f2d81814",
   "metadata": {},
   "outputs": [
    {
     "name": "stdout",
     "output_type": "stream",
     "text": [
      "Key c is missing\n",
      "{'a': [1, 2], 'b': [4, 5]}\n"
     ]
    }
   ],
   "source": [
    "# exceptions\n",
    "dictionary = dict(a=[1, 2], b=[4, 5])\n",
    "\n",
    "key = 'c'\n",
    "\n",
    "try:\n",
    "    dictionary['c']\n",
    "except:\n",
    "    print(f\"Key {key} is missing\")\n",
    "\n",
    "print(dictionary)"
   ]
  },
  {
   "cell_type": "code",
   "execution_count": 36,
   "id": "b0841938",
   "metadata": {},
   "outputs": [
    {
     "name": "stdout",
     "output_type": "stream",
     "text": [
      "120\n",
      "120\n"
     ]
    }
   ],
   "source": [
    "# functions: factorial\n",
    "\n",
    "# recursive approach\n",
    "def r_factorial(n):\n",
    "    if n < 2:\n",
    "        return 1\n",
    "    else:\n",
    "        return n * r_factorial(n - 1)\n",
    "    \n",
    "# iterative approach\n",
    "def i_factorial(n):\n",
    "    if n < 0:\n",
    "        return \"Input is negative\"\n",
    "    \n",
    "    result = 1\n",
    "    \n",
    "    for i in range(1, n+1):\n",
    "        result *= i\n",
    "    \n",
    "    return result\n",
    "    \n",
    "print(r_factorial(5))\n",
    "print(i_factorial(5))"
   ]
  },
  {
   "cell_type": "code",
   "execution_count": 38,
   "id": "ba57feec",
   "metadata": {},
   "outputs": [
    {
     "name": "stdout",
     "output_type": "stream",
     "text": [
      "1 4 9 16 25 "
     ]
    }
   ],
   "source": [
    "# List comprehensions\n",
    "\n",
    "nums = [1, 2, 3, 4, 5]\n",
    "\n",
    "for i in nums:\n",
    "    print(i**2, end=\" \")"
   ]
  },
  {
   "cell_type": "code",
   "execution_count": 39,
   "id": "01ea32ff",
   "metadata": {},
   "outputs": [
    {
     "name": "stdout",
     "output_type": "stream",
     "text": [
      "[1, 4, 9, 16, 25]\n"
     ]
    }
   ],
   "source": [
    "print([i**2 for i in nums])"
   ]
  },
  {
   "cell_type": "code",
   "execution_count": 42,
   "id": "a4bcd79e",
   "metadata": {},
   "outputs": [
    {
     "name": "stdout",
     "output_type": "stream",
     "text": [
      "hello [1, 3, 5] just did\n"
     ]
    }
   ],
   "source": [
    "print(\"hello\", [i for i in nums if i % 2 != 0], \"just did\")"
   ]
  },
  {
   "cell_type": "code",
   "execution_count": 44,
   "id": "724a5a2d",
   "metadata": {},
   "outputs": [
    {
     "name": "stdout",
     "output_type": "stream",
     "text": [
      "[1, 2, 3, 4]\n"
     ]
    }
   ],
   "source": [
    "matrix = [[1, 2], [3, 4]]\n",
    "\n",
    "items = []\n",
    "for row in matrix:\n",
    "    for col in row:\n",
    "        items.append(col)\n",
    "\n",
    "print(items)"
   ]
  },
  {
   "cell_type": "code",
   "execution_count": 45,
   "id": "f302a496",
   "metadata": {},
   "outputs": [
    {
     "name": "stdout",
     "output_type": "stream",
     "text": [
      "[1, 2, 3, 4]\n"
     ]
    }
   ],
   "source": [
    "items = [col for row in matrix for col in row]\n",
    "\n",
    "print(items)"
   ]
  },
  {
   "cell_type": "code",
   "execution_count": 50,
   "id": "5bfc7c08",
   "metadata": {},
   "outputs": [
    {
     "name": "stdout",
     "output_type": "stream",
     "text": [
      "HOMER 45\tMARGE 45\tBAR 10\tLISA 10\t"
     ]
    }
   ],
   "source": [
    "simpsons = {'Homer':45, 'Marge':45, 'Bar':10, 'Lisa':10}\n",
    "\n",
    "for key, value in simpsons.items():\n",
    "    print(key.upper(), simpsons[key], end=\"\\t\")"
   ]
  },
  {
   "cell_type": "code",
   "execution_count": 54,
   "id": "2f58c337",
   "metadata": {},
   "outputs": [],
   "source": [
    "{k.upper(): v+1 for k, v in simpsons.items()}"
   ]
  },
  {
   "cell_type": "code",
   "execution_count": 66,
   "id": "b4cd60c8",
   "metadata": {},
   "outputs": [
    {
     "name": "stdout",
     "output_type": "stream",
     "text": [
      "['I', 'am', 'a', 'student', 'of', 'CS']\n",
      "[' ', ' ', ' ', ' ', ' ', '.']\n"
     ]
    }
   ],
   "source": [
    "# Regular expressions\n",
    "\n",
    "import re\n",
    "\n",
    "pattern1 = re.compile(\"[A-Za-z]+\")\n",
    "pattern2 = re.compile(\"[^A-Za-z]+\")\n",
    "\n",
    "sentence = \"I am a student of CS.\"\n",
    "\n",
    "print(pattern1.findall(sentence))\n",
    "print(pattern2.findall(sentence))"
   ]
  },
  {
   "cell_type": "code",
   "execution_count": null,
   "id": "99c769fa",
   "metadata": {},
   "outputs": [],
   "source": []
  },
  {
   "cell_type": "markdown",
   "id": "2acc5d18",
   "metadata": {},
   "source": [
    "# Numpy and Pandas"
   ]
  },
  {
   "cell_type": "code",
   "execution_count": 1,
   "id": "e1700b32",
   "metadata": {},
   "outputs": [],
   "source": [
    "import numpy as np"
   ]
  },
  {
   "cell_type": "code",
   "execution_count": 2,
   "id": "b9bd7b1b",
   "metadata": {},
   "outputs": [],
   "source": [
    "data1 = [1, 2, 3, 4]\n",
    "arr1 = np.array(data1)"
   ]
  },
  {
   "cell_type": "code",
   "execution_count": 3,
   "id": "d85adaf4",
   "metadata": {},
   "outputs": [
    {
     "data": {
      "text/plain": [
       "list"
      ]
     },
     "execution_count": 3,
     "metadata": {},
     "output_type": "execute_result"
    }
   ],
   "source": [
    "type(data1)"
   ]
  },
  {
   "cell_type": "code",
   "execution_count": 4,
   "id": "8e589b07",
   "metadata": {},
   "outputs": [
    {
     "data": {
      "text/plain": [
       "numpy.ndarray"
      ]
     },
     "execution_count": 4,
     "metadata": {},
     "output_type": "execute_result"
    }
   ],
   "source": [
    "type(arr1)"
   ]
  },
  {
   "cell_type": "code",
   "execution_count": 6,
   "id": "86e816f7",
   "metadata": {},
   "outputs": [],
   "source": [
    "data2 = [range(1, 5), range(5, 9)]"
   ]
  },
  {
   "cell_type": "code",
   "execution_count": 8,
   "id": "589f4405",
   "metadata": {},
   "outputs": [],
   "source": [
    "arr2 = np.array(data2) # 2D array"
   ]
  },
  {
   "cell_type": "code",
   "execution_count": 9,
   "id": "c0616a8d",
   "metadata": {},
   "outputs": [
    {
     "data": {
      "text/plain": [
       "array([[1, 2, 3, 4],\n",
       "       [5, 6, 7, 8]])"
      ]
     },
     "execution_count": 9,
     "metadata": {},
     "output_type": "execute_result"
    }
   ],
   "source": [
    "arr2"
   ]
  },
  {
   "cell_type": "code",
   "execution_count": 10,
   "id": "f945f9e0",
   "metadata": {},
   "outputs": [
    {
     "data": {
      "text/plain": [
       "[[1, 2, 3, 4], [5, 6, 7, 8]]"
      ]
     },
     "execution_count": 10,
     "metadata": {},
     "output_type": "execute_result"
    }
   ],
   "source": [
    "arr2.tolist()"
   ]
  },
  {
   "cell_type": "code",
   "execution_count": 11,
   "id": "7627fa89",
   "metadata": {},
   "outputs": [
    {
     "data": {
      "text/plain": [
       "array([0., 0., 0., 0., 0., 0., 0., 0., 0., 0.])"
      ]
     },
     "execution_count": 11,
     "metadata": {},
     "output_type": "execute_result"
    }
   ],
   "source": [
    "np.zeros(10)"
   ]
  },
  {
   "cell_type": "code",
   "execution_count": 12,
   "id": "b5af495a",
   "metadata": {},
   "outputs": [
    {
     "data": {
      "text/plain": [
       "array([[0., 0., 0., 0., 0., 0.],\n",
       "       [0., 0., 0., 0., 0., 0.],\n",
       "       [0., 0., 0., 0., 0., 0.]])"
      ]
     },
     "execution_count": 12,
     "metadata": {},
     "output_type": "execute_result"
    }
   ],
   "source": [
    "np.zeros((3, 6))"
   ]
  },
  {
   "cell_type": "code",
   "execution_count": 13,
   "id": "02b1a7e2",
   "metadata": {},
   "outputs": [
    {
     "data": {
      "text/plain": [
       "array([1., 1., 1., 1., 1., 1., 1., 1., 1., 1.])"
      ]
     },
     "execution_count": 13,
     "metadata": {},
     "output_type": "execute_result"
    }
   ],
   "source": [
    "np.ones(10)"
   ]
  },
  {
   "cell_type": "code",
   "execution_count": 14,
   "id": "ac0a5833",
   "metadata": {},
   "outputs": [
    {
     "data": {
      "text/plain": [
       "array([   1.,   10.,  100., 1000.])"
      ]
     },
     "execution_count": 14,
     "metadata": {},
     "output_type": "execute_result"
    }
   ],
   "source": [
    "np.logspace(0, 3, 4)"
   ]
  },
  {
   "cell_type": "code",
   "execution_count": 15,
   "id": "cee13012",
   "metadata": {},
   "outputs": [],
   "source": [
    "init_arr = np.arange(5)"
   ]
  },
  {
   "cell_type": "code",
   "execution_count": 16,
   "id": "0e14ff13",
   "metadata": {},
   "outputs": [
    {
     "data": {
      "text/plain": [
       "array([0, 1, 2, 3, 4])"
      ]
     },
     "execution_count": 16,
     "metadata": {},
     "output_type": "execute_result"
    }
   ],
   "source": [
    "init_arr"
   ]
  },
  {
   "cell_type": "code",
   "execution_count": 18,
   "id": "f1e2d059",
   "metadata": {},
   "outputs": [
    {
     "data": {
      "text/plain": [
       "array([2, 3, 4])"
      ]
     },
     "execution_count": 18,
     "metadata": {},
     "output_type": "execute_result"
    }
   ],
   "source": [
    "np.arange(2, 5)"
   ]
  },
  {
   "cell_type": "code",
   "execution_count": 19,
   "id": "235f677b",
   "metadata": {},
   "outputs": [],
   "source": [
    "# Reshaping\n",
    "arr = np.arange(10, dtype=float)"
   ]
  },
  {
   "cell_type": "code",
   "execution_count": 20,
   "id": "64f746dd",
   "metadata": {},
   "outputs": [
    {
     "data": {
      "text/plain": [
       "array([0., 1., 2., 3., 4., 5., 6., 7., 8., 9.])"
      ]
     },
     "execution_count": 20,
     "metadata": {},
     "output_type": "execute_result"
    }
   ],
   "source": [
    "arr"
   ]
  },
  {
   "cell_type": "code",
   "execution_count": 22,
   "id": "9af89f4c",
   "metadata": {},
   "outputs": [
    {
     "data": {
      "text/plain": [
       "array([[0., 1., 2., 3., 4.],\n",
       "       [5., 6., 7., 8., 9.]])"
      ]
     },
     "execution_count": 22,
     "metadata": {},
     "output_type": "execute_result"
    }
   ],
   "source": [
    "arr.reshape((2, 5))"
   ]
  },
  {
   "cell_type": "code",
   "execution_count": 27,
   "id": "0bbbce94",
   "metadata": {},
   "outputs": [
    {
     "data": {
      "text/plain": [
       "array([[0., 1.],\n",
       "       [2., 3.],\n",
       "       [4., 5.],\n",
       "       [6., 7.],\n",
       "       [8., 9.]])"
      ]
     },
     "execution_count": 27,
     "metadata": {},
     "output_type": "execute_result"
    }
   ],
   "source": [
    "arr.reshape((5, -1))"
   ]
  },
  {
   "cell_type": "code",
   "execution_count": 30,
   "id": "1b5d6d04",
   "metadata": {},
   "outputs": [],
   "source": [
    "# add an axis\n",
    "\n",
    "# a = np.array([0, 1])\n",
    "a = np.arange(2)"
   ]
  },
  {
   "cell_type": "code",
   "execution_count": 31,
   "id": "e954f17a",
   "metadata": {},
   "outputs": [
    {
     "data": {
      "text/plain": [
       "array([0, 1])"
      ]
     },
     "execution_count": 31,
     "metadata": {},
     "output_type": "execute_result"
    }
   ],
   "source": [
    "a"
   ]
  },
  {
   "cell_type": "code",
   "execution_count": 33,
   "id": "b2f626dc",
   "metadata": {},
   "outputs": [],
   "source": [
    "a_col = a[:, np.newaxis]"
   ]
  },
  {
   "cell_type": "code",
   "execution_count": 34,
   "id": "53b080f7",
   "metadata": {},
   "outputs": [
    {
     "data": {
      "text/plain": [
       "array([[0],\n",
       "       [1]])"
      ]
     },
     "execution_count": 34,
     "metadata": {},
     "output_type": "execute_result"
    }
   ],
   "source": [
    "a_col"
   ]
  },
  {
   "cell_type": "code",
   "execution_count": 36,
   "id": "72e55bee",
   "metadata": {},
   "outputs": [
    {
     "name": "stdout",
     "output_type": "stream",
     "text": [
      "[[0 1]]\n"
     ]
    }
   ],
   "source": [
    "print(a_col.T)"
   ]
  },
  {
   "cell_type": "code",
   "execution_count": 37,
   "id": "57606868",
   "metadata": {},
   "outputs": [],
   "source": [
    "a = np.array([0, 1])"
   ]
  },
  {
   "cell_type": "code",
   "execution_count": 38,
   "id": "88c0950c",
   "metadata": {},
   "outputs": [
    {
     "data": {
      "text/plain": [
       "array([0, 1])"
      ]
     },
     "execution_count": 38,
     "metadata": {},
     "output_type": "execute_result"
    }
   ],
   "source": [
    "a"
   ]
  },
  {
   "cell_type": "code",
   "execution_count": 39,
   "id": "48e2790e",
   "metadata": {},
   "outputs": [
    {
     "data": {
      "text/plain": [
       "array([0, 1])"
      ]
     },
     "execution_count": 39,
     "metadata": {},
     "output_type": "execute_result"
    }
   ],
   "source": [
    "a.T"
   ]
  },
  {
   "cell_type": "code",
   "execution_count": 44,
   "id": "64d316bb",
   "metadata": {},
   "outputs": [
    {
     "name": "stdout",
     "output_type": "stream",
     "text": [
      "[0 1]\n"
     ]
    }
   ],
   "source": [
    "print(a.T)"
   ]
  },
  {
   "cell_type": "code",
   "execution_count": 40,
   "id": "107f8db2",
   "metadata": {},
   "outputs": [
    {
     "data": {
      "text/plain": [
       "array([[0, 1]])"
      ]
     },
     "execution_count": 40,
     "metadata": {},
     "output_type": "execute_result"
    }
   ],
   "source": [
    "b = np.array([[0, 1]])\n",
    "b"
   ]
  },
  {
   "cell_type": "code",
   "execution_count": 41,
   "id": "640333ba",
   "metadata": {},
   "outputs": [
    {
     "data": {
      "text/plain": [
       "array([[0],\n",
       "       [1]])"
      ]
     },
     "execution_count": 41,
     "metadata": {},
     "output_type": "execute_result"
    }
   ],
   "source": [
    "b.T"
   ]
  },
  {
   "cell_type": "code",
   "execution_count": 42,
   "id": "ac1dcf8d",
   "metadata": {},
   "outputs": [
    {
     "data": {
      "text/plain": [
       "(2,)"
      ]
     },
     "execution_count": 42,
     "metadata": {},
     "output_type": "execute_result"
    }
   ],
   "source": [
    "a.shape"
   ]
  },
  {
   "cell_type": "code",
   "execution_count": 45,
   "id": "ff616ebb",
   "metadata": {},
   "outputs": [
    {
     "data": {
      "text/plain": [
       "(1, 2)"
      ]
     },
     "execution_count": 45,
     "metadata": {},
     "output_type": "execute_result"
    }
   ],
   "source": [
    "b.shape"
   ]
  },
  {
   "cell_type": "code",
   "execution_count": 46,
   "id": "7740eb1d",
   "metadata": {},
   "outputs": [
    {
     "data": {
      "text/plain": [
       "array([0, 1])"
      ]
     },
     "execution_count": 46,
     "metadata": {},
     "output_type": "execute_result"
    }
   ],
   "source": [
    "a.T"
   ]
  },
  {
   "cell_type": "code",
   "execution_count": 47,
   "id": "27e4f335",
   "metadata": {},
   "outputs": [
    {
     "data": {
      "text/plain": [
       "(2,)"
      ]
     },
     "execution_count": 47,
     "metadata": {},
     "output_type": "execute_result"
    }
   ],
   "source": [
    "a.shape"
   ]
  },
  {
   "cell_type": "code",
   "execution_count": 48,
   "id": "08bae8e4",
   "metadata": {},
   "outputs": [
    {
     "data": {
      "text/plain": [
       "array([0., 1., 2., 3., 4., 5., 6., 7., 8., 9.])"
      ]
     },
     "execution_count": 48,
     "metadata": {},
     "output_type": "execute_result"
    }
   ],
   "source": [
    "arr"
   ]
  },
  {
   "cell_type": "code",
   "execution_count": 50,
   "id": "0861944b",
   "metadata": {},
   "outputs": [],
   "source": [
    "# Flatten: always returns a flat copy of the orig array\n",
    "matrix = arr.reshape((5, 2))"
   ]
  },
  {
   "cell_type": "code",
   "execution_count": 51,
   "id": "fc0af947",
   "metadata": {},
   "outputs": [
    {
     "data": {
      "text/plain": [
       "array([[0., 1.],\n",
       "       [2., 3.],\n",
       "       [4., 5.],\n",
       "       [6., 7.],\n",
       "       [8., 9.]])"
      ]
     },
     "execution_count": 51,
     "metadata": {},
     "output_type": "execute_result"
    }
   ],
   "source": [
    "matrix"
   ]
  },
  {
   "cell_type": "code",
   "execution_count": 52,
   "id": "33420559",
   "metadata": {},
   "outputs": [],
   "source": [
    "matrix_flat = matrix.flatten()"
   ]
  },
  {
   "cell_type": "code",
   "execution_count": 53,
   "id": "ff9fe79f",
   "metadata": {},
   "outputs": [
    {
     "data": {
      "text/plain": [
       "array([0., 1., 2., 3., 4., 5., 6., 7., 8., 9.])"
      ]
     },
     "execution_count": 53,
     "metadata": {},
     "output_type": "execute_result"
    }
   ],
   "source": [
    "matrix_flat"
   ]
  },
  {
   "cell_type": "code",
   "execution_count": 54,
   "id": "3323c130",
   "metadata": {},
   "outputs": [
    {
     "name": "stdout",
     "output_type": "stream",
     "text": [
      "[ 0  1  2  3  4  5  6  7  8  9 10 11 12 13 14 15 16 17 18 19 20 21 22 23]\n"
     ]
    }
   ],
   "source": [
    "x = np.arange(2 * 3 * 4)\n",
    "print(x)"
   ]
  },
  {
   "cell_type": "code",
   "execution_count": 55,
   "id": "10c0a38c",
   "metadata": {},
   "outputs": [],
   "source": [
    "x = x.reshape(2, 3, 4)"
   ]
  },
  {
   "cell_type": "code",
   "execution_count": 56,
   "id": "8205a4fc",
   "metadata": {},
   "outputs": [
    {
     "data": {
      "text/plain": [
       "array([[[ 0,  1,  2,  3],\n",
       "        [ 4,  5,  6,  7],\n",
       "        [ 8,  9, 10, 11]],\n",
       "\n",
       "       [[12, 13, 14, 15],\n",
       "        [16, 17, 18, 19],\n",
       "        [20, 21, 22, 23]]])"
      ]
     },
     "execution_count": 56,
     "metadata": {},
     "output_type": "execute_result"
    }
   ],
   "source": [
    "x"
   ]
  },
  {
   "cell_type": "code",
   "execution_count": 57,
   "id": "017b76e1",
   "metadata": {},
   "outputs": [
    {
     "name": "stdout",
     "output_type": "stream",
     "text": [
      "[[ 0  1  2  3]\n",
      " [ 4  5  6  7]\n",
      " [ 8  9 10 11]]\n"
     ]
    }
   ],
   "source": [
    "# indexing\n",
    "print(x[0, :, :])"
   ]
  },
  {
   "cell_type": "code",
   "execution_count": 59,
   "id": "645e5c36",
   "metadata": {},
   "outputs": [
    {
     "name": "stdout",
     "output_type": "stream",
     "text": [
      "1\n"
     ]
    }
   ],
   "source": [
    "print(x[0, 0, 1])"
   ]
  },
  {
   "cell_type": "code",
   "execution_count": 60,
   "id": "01b95e8c",
   "metadata": {},
   "outputs": [],
   "source": [
    "# stacking arrays\n",
    "a = np.array([0, 1])\n",
    "b = np.array([2, 3])\n",
    "\n",
    "ab = np.stack((a, b))"
   ]
  },
  {
   "cell_type": "code",
   "execution_count": 61,
   "id": "5497c209",
   "metadata": {},
   "outputs": [
    {
     "data": {
      "text/plain": [
       "array([[0, 1],\n",
       "       [2, 3]])"
      ]
     },
     "execution_count": 61,
     "metadata": {},
     "output_type": "execute_result"
    }
   ],
   "source": [
    "ab"
   ]
  },
  {
   "cell_type": "code",
   "execution_count": 62,
   "id": "d9c7589c",
   "metadata": {},
   "outputs": [],
   "source": [
    "abT = np.stack((a, b)).T"
   ]
  },
  {
   "cell_type": "code",
   "execution_count": 63,
   "id": "da6e0939",
   "metadata": {},
   "outputs": [
    {
     "data": {
      "text/plain": [
       "array([[0, 2],\n",
       "       [1, 3]])"
      ]
     },
     "execution_count": 63,
     "metadata": {},
     "output_type": "execute_result"
    }
   ],
   "source": [
    "abT"
   ]
  },
  {
   "cell_type": "code",
   "execution_count": 70,
   "id": "7281aeb8",
   "metadata": {},
   "outputs": [
    {
     "data": {
      "text/plain": [
       "array([[0, 2],\n",
       "       [1, 3]])"
      ]
     },
     "execution_count": 70,
     "metadata": {},
     "output_type": "execute_result"
    }
   ],
   "source": [
    "# or instead of taking transpose, hstack them\n",
    "np.hstack((a[:, None], b[:, None]))"
   ]
  },
  {
   "cell_type": "code",
   "execution_count": 71,
   "id": "ff587939",
   "metadata": {},
   "outputs": [
    {
     "data": {
      "text/plain": [
       "array([[0, 2],\n",
       "       [1, 3]])"
      ]
     },
     "execution_count": 71,
     "metadata": {},
     "output_type": "execute_result"
    }
   ],
   "source": [
    "abT"
   ]
  },
  {
   "cell_type": "code",
   "execution_count": 72,
   "id": "759ce57a",
   "metadata": {},
   "outputs": [
    {
     "data": {
      "text/plain": [
       "array([0, 2])"
      ]
     },
     "execution_count": 72,
     "metadata": {},
     "output_type": "execute_result"
    }
   ],
   "source": [
    "abT[0]"
   ]
  },
  {
   "cell_type": "code",
   "execution_count": 73,
   "id": "063dacb1",
   "metadata": {},
   "outputs": [
    {
     "data": {
      "text/plain": [
       "2"
      ]
     },
     "execution_count": 73,
     "metadata": {},
     "output_type": "execute_result"
    }
   ],
   "source": [
    "abT[0][1]"
   ]
  },
  {
   "cell_type": "code",
   "execution_count": 81,
   "id": "18711b54",
   "metadata": {},
   "outputs": [
    {
     "data": {
      "text/plain": [
       "array([[2],\n",
       "       [3]])"
      ]
     },
     "execution_count": 81,
     "metadata": {},
     "output_type": "execute_result"
    }
   ],
   "source": [
    "abT[:, 1:]"
   ]
  },
  {
   "cell_type": "code",
   "execution_count": 82,
   "id": "0fa033ac",
   "metadata": {},
   "outputs": [
    {
     "data": {
      "text/plain": [
       "array([0., 1., 2., 3., 4., 5., 6., 7., 8., 9.])"
      ]
     },
     "execution_count": 82,
     "metadata": {},
     "output_type": "execute_result"
    }
   ],
   "source": [
    "arr"
   ]
  },
  {
   "cell_type": "code",
   "execution_count": 83,
   "id": "924bbd8c",
   "metadata": {},
   "outputs": [
    {
     "data": {
      "text/plain": [
       "array([9., 8., 7., 6., 5., 4., 3., 2., 1., 0.])"
      ]
     },
     "execution_count": 83,
     "metadata": {},
     "output_type": "execute_result"
    }
   ],
   "source": [
    "arr[::-1]"
   ]
  },
  {
   "cell_type": "code",
   "execution_count": 86,
   "id": "a4f2b8d1",
   "metadata": {},
   "outputs": [],
   "source": [
    "names = np.array(['Bob', 'Joe', 'Will', 'Will'])"
   ]
  },
  {
   "cell_type": "code",
   "execution_count": 87,
   "id": "2499f3af",
   "metadata": {},
   "outputs": [
    {
     "data": {
      "text/plain": [
       "array(['Bob', 'Joe', 'Will'], dtype='<U4')"
      ]
     },
     "execution_count": 87,
     "metadata": {},
     "output_type": "execute_result"
    }
   ],
   "source": [
    "np.unique(names)"
   ]
  },
  {
   "cell_type": "code",
   "execution_count": 89,
   "id": "ead18ddf",
   "metadata": {},
   "outputs": [
    {
     "data": {
      "text/plain": [
       "array([ 0, 10, 20, 30, 40])"
      ]
     },
     "execution_count": 89,
     "metadata": {},
     "output_type": "execute_result"
    }
   ],
   "source": [
    "# Vectorized Operations\n",
    "\n",
    "nums = np.arange(5)\n",
    "nums * 10"
   ]
  },
  {
   "cell_type": "code",
   "execution_count": 90,
   "id": "be058ebe",
   "metadata": {},
   "outputs": [
    {
     "data": {
      "text/plain": [
       "array([0.        , 1.        , 1.41421356, 1.73205081, 2.        ])"
      ]
     },
     "execution_count": 90,
     "metadata": {},
     "output_type": "execute_result"
    }
   ],
   "source": [
    "nums = np.sqrt(nums)\n",
    "nums"
   ]
  },
  {
   "cell_type": "code",
   "execution_count": 91,
   "id": "d3898a0b",
   "metadata": {},
   "outputs": [
    {
     "data": {
      "text/plain": [
       "array([0., 1., 2., 2., 2.])"
      ]
     },
     "execution_count": 91,
     "metadata": {},
     "output_type": "execute_result"
    }
   ],
   "source": [
    "np.ceil(nums)"
   ]
  },
  {
   "cell_type": "code",
   "execution_count": 94,
   "id": "db307f0e",
   "metadata": {},
   "outputs": [],
   "source": [
    "# compute Euclidean distance\n",
    "vec1 = np.random.randn(10)\n",
    "vec2 = np.random.randn(10)"
   ]
  },
  {
   "cell_type": "code",
   "execution_count": 95,
   "id": "d09f220b",
   "metadata": {},
   "outputs": [],
   "source": [
    "dist = np.sqrt(np.sum((vec1 - vec2) ** 2))"
   ]
  },
  {
   "cell_type": "code",
   "execution_count": 96,
   "id": "ef078342",
   "metadata": {},
   "outputs": [
    {
     "data": {
      "text/plain": [
       "4.855607852089475"
      ]
     },
     "execution_count": 96,
     "metadata": {},
     "output_type": "execute_result"
    }
   ],
   "source": [
    "dist"
   ]
  },
  {
   "cell_type": "code",
   "execution_count": 98,
   "id": "79875cc9",
   "metadata": {},
   "outputs": [],
   "source": [
    "rnd = np.random.randn(4, 2)"
   ]
  },
  {
   "cell_type": "code",
   "execution_count": 99,
   "id": "2e75c70e",
   "metadata": {},
   "outputs": [
    {
     "data": {
      "text/plain": [
       "array([[-0.03506792, -1.46150884],\n",
       "       [-1.8528755 , -2.62243169],\n",
       "       [ 1.07872492,  0.46197026],\n",
       "       [-0.61852221, -0.24251494]])"
      ]
     },
     "execution_count": 99,
     "metadata": {},
     "output_type": "execute_result"
    }
   ],
   "source": [
    "rnd"
   ]
  },
  {
   "cell_type": "code",
   "execution_count": 100,
   "id": "4dccf86e",
   "metadata": {},
   "outputs": [
    {
     "data": {
      "text/plain": [
       "-0.6615282396212838"
      ]
     },
     "execution_count": 100,
     "metadata": {},
     "output_type": "execute_result"
    }
   ],
   "source": [
    "rnd.mean()"
   ]
  },
  {
   "cell_type": "code",
   "execution_count": 101,
   "id": "c6810f4b",
   "metadata": {},
   "outputs": [
    {
     "data": {
      "text/plain": [
       "1.1600120543259735"
      ]
     },
     "execution_count": 101,
     "metadata": {},
     "output_type": "execute_result"
    }
   ],
   "source": [
    "rnd.std()"
   ]
  },
  {
   "cell_type": "code",
   "execution_count": 105,
   "id": "f297fae3",
   "metadata": {},
   "outputs": [
    {
     "data": {
      "text/plain": [
       "3"
      ]
     },
     "execution_count": 105,
     "metadata": {},
     "output_type": "execute_result"
    }
   ],
   "source": [
    "rnd.argmin()"
   ]
  },
  {
   "cell_type": "code",
   "execution_count": 104,
   "id": "f5da9423",
   "metadata": {},
   "outputs": [
    {
     "data": {
      "text/plain": [
       "4"
      ]
     },
     "execution_count": 104,
     "metadata": {},
     "output_type": "execute_result"
    }
   ],
   "source": [
    "rnd.argmax()"
   ]
  },
  {
   "cell_type": "code",
   "execution_count": 106,
   "id": "57a64131",
   "metadata": {},
   "outputs": [
    {
     "data": {
      "text/plain": [
       "array([-0.35693518, -0.9661213 ])"
      ]
     },
     "execution_count": 106,
     "metadata": {},
     "output_type": "execute_result"
    }
   ],
   "source": [
    "rnd.mean(axis=0)"
   ]
  },
  {
   "cell_type": "code",
   "execution_count": 107,
   "id": "2e8c32a1",
   "metadata": {},
   "outputs": [
    {
     "data": {
      "text/plain": [
       "array([-0.74828838, -2.2376536 ,  0.77034759, -0.43051857])"
      ]
     },
     "execution_count": 107,
     "metadata": {},
     "output_type": "execute_result"
    }
   ],
   "source": [
    "rnd.mean(axis=1)"
   ]
  },
  {
   "cell_type": "code",
   "execution_count": 108,
   "id": "24f5c3e3",
   "metadata": {},
   "outputs": [
    {
     "data": {
      "text/plain": [
       "2"
      ]
     },
     "execution_count": 108,
     "metadata": {},
     "output_type": "execute_result"
    }
   ],
   "source": [
    "(rnd > 0).sum()"
   ]
  },
  {
   "cell_type": "code",
   "execution_count": 109,
   "id": "ee4fe88b",
   "metadata": {},
   "outputs": [
    {
     "data": {
      "text/plain": [
       "False"
      ]
     },
     "execution_count": 109,
     "metadata": {},
     "output_type": "execute_result"
    }
   ],
   "source": [
    "(rnd > 2).any()"
   ]
  },
  {
   "cell_type": "code",
   "execution_count": 110,
   "id": "a46bbe5a",
   "metadata": {},
   "outputs": [
    {
     "data": {
      "text/plain": [
       "False"
      ]
     },
     "execution_count": 110,
     "metadata": {},
     "output_type": "execute_result"
    }
   ],
   "source": [
    "(rnd > 0).all()"
   ]
  },
  {
   "cell_type": "markdown",
   "id": "fe263625",
   "metadata": {},
   "source": [
    "# Pandas"
   ]
  },
  {
   "cell_type": "code",
   "execution_count": null,
   "id": "a0186b26",
   "metadata": {},
   "outputs": [],
   "source": []
  },
  {
   "cell_type": "code",
   "execution_count": null,
   "id": "9447bc73",
   "metadata": {},
   "outputs": [],
   "source": []
  },
  {
   "cell_type": "code",
   "execution_count": null,
   "id": "e6e3b731",
   "metadata": {},
   "outputs": [],
   "source": []
  },
  {
   "cell_type": "code",
   "execution_count": null,
   "id": "780b0e5e",
   "metadata": {},
   "outputs": [],
   "source": []
  },
  {
   "cell_type": "code",
   "execution_count": null,
   "id": "3a3090a4",
   "metadata": {},
   "outputs": [],
   "source": []
  }
 ],
 "metadata": {
  "kernelspec": {
   "display_name": "Python 3 (ipykernel)",
   "language": "python",
   "name": "python3"
  },
  "language_info": {
   "codemirror_mode": {
    "name": "ipython",
    "version": 3
   },
   "file_extension": ".py",
   "mimetype": "text/x-python",
   "name": "python",
   "nbconvert_exporter": "python",
   "pygments_lexer": "ipython3",
   "version": "3.10.9"
  }
 },
 "nbformat": 4,
 "nbformat_minor": 5
}
